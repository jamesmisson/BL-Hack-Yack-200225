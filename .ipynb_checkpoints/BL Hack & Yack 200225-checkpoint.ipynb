{
 "cells": [
  {
   "cell_type": "markdown",
   "id": "5a6011a8",
   "metadata": {},
   "source": [
    "This notebook will help us create a IIIF Collection from manifests we've found, which we can then pass to the Timeline viewer.\n",
    "\n",
    "You can see a basic IIIF Collection with navDates here: https://iiif.io/api/cookbook/recipe/0230-navdate/navdate-collection.json . This is the structure we're creating with this script. \n",
    "\n",
    "Beginner: use manifests from https://collections.library.yale.edu/. They have good navDate support and are using IIIF v3, which this script needs. Copy and paste the manifest URLs in the cell below as a comma-separated list between square brackets. Use quotation marks like in the examples currently given.\n",
    "\n",
    "Intermediate: You can add v3 manifests from any online source (even mix institutions); if they don't have navDate properties then this script supplies the 'placeholder' value (currently set at year 2000), which you can then edit manually. Here's a good list of where to find IIIF manifests: https://liiive.now/blog/2025-02-navigating-the-iiif-landscape/\n",
    "\n",
    "Advanced: If you're using v2 manifests, or a mix of v2 and v3, with or without navDates, you can adapt this script to generate an empty collection, and add them manually, or you could use the older version of the Python library (iiif-prezi) to handle v2 manifests. \n",
    "\n",
    "Optional: I recommend the Detektiiif extension to your browser to quickly grab manifest URLs https://chromewebstore.google.com/detail/detektiiif3/aaodcobgcadinjipaocibamdfcffpcpp?pli=1\n",
    "\n"
   ]
  },
  {
   "cell_type": "code",
   "execution_count": 82,
   "id": "15609c4f",
   "metadata": {},
   "outputs": [],
   "source": [
    "from iiif_prezi3 import Collection, Manifest, ResourceItem, config\n",
    "import json\n",
    "import requests"
   ]
  },
  {
   "cell_type": "code",
   "execution_count": 83,
   "id": "56480b26",
   "metadata": {},
   "outputs": [],
   "source": [
    "# replace these URLs with your manifest URLs\n",
    "manifest_urls = [\"https://collections.library.yale.edu/manifests/10013997\",\n",
    "                 \"https://collections.library.yale.edu/manifests/10013953\",\n",
    "                 \"https://collections.library.yale.edu/manifests/10013964\",\n",
    "                 \"https://collections.library.yale.edu/manifests/10015334\",\n",
    "                 \"https://collections.library.yale.edu/manifests/10013228\"]"
   ]
  },
  {
   "cell_type": "code",
   "execution_count": 78,
   "id": "914e0149",
   "metadata": {},
   "outputs": [],
   "source": [
    "collection_name = 'my collection'\n",
    "navDate_placeholder = '2000-01-01T00:00:00+00:00'\n",
    "base_url = \"https://iiif.bl.uk/my_iiif\"\n",
    "\n",
    "# prezi3 config\n",
    "config.configs['helpers.auto_fields.AutoLang'].auto_lang = \"en\""
   ]
  },
  {
   "cell_type": "code",
   "execution_count": 79,
   "id": "cffcf843",
   "metadata": {},
   "outputs": [],
   "source": [
    "collection = Collection(id=f\"{base_url}/my_collection.json\",\n",
    "                        label=collection_name)"
   ]
  },
  {
   "cell_type": "code",
   "execution_count": null,
   "id": "006c2cf6",
   "metadata": {},
   "outputs": [],
   "source": [
    "for index, url in enumerate(manifest_urls):\n",
    "    response = requests.get(url)\n",
    "    if response.status_code == 200:\n",
    "        manifest_json = json.loads(response.text)\n",
    "        m = Manifest(**manifest_json)\n",
    "        collection.add_item(m)\n",
    "        \n",
    "        if m.navDate:\n",
    "            collection.items[index].navDate = m.navDate\n",
    "        else:\n",
    "            collection.items[index].navDate = navDate_placeholder\n",
    "            print(f\"No NavDate found for {url}, remember to manually replace the placeholder!\")\n",
    "    else:\n",
    "        print(f\"Failed to fetch data for {url}: {response.status_code}\")"
   ]
  },
  {
   "cell_type": "code",
   "execution_count": null,
   "id": "d6b3b4b6",
   "metadata": {},
   "outputs": [],
   "source": [
    "print(collection.json(indent=2))"
   ]
  },
  {
   "cell_type": "markdown",
   "id": "9b8b3f58",
   "metadata": {},
   "source": [
    "You can now paste the output of the above cell to a GitHub Gist: https://gist.github.com/\n",
    "This is a quick and easy way of hosting the Collection online so the Timeline (or any other person or IIIF software) can access it. \n",
    "\n",
    "With that, your Collection is online! On the Gist, click 'raw' for the raw JSON. This URL is the Collection URL, so copy it and paste it into the input field of the Timeline viewer: https://jamesmisson.github.io/iiif-timeline/"
   ]
  }
 ],
 "metadata": {
  "kernelspec": {
   "display_name": "Python 3 (ipykernel)",
   "language": "python",
   "name": "python3"
  },
  "language_info": {
   "codemirror_mode": {
    "name": "ipython",
    "version": 3
   },
   "file_extension": ".py",
   "mimetype": "text/x-python",
   "name": "python",
   "nbconvert_exporter": "python",
   "pygments_lexer": "ipython3",
   "version": "3.8.18"
  }
 },
 "nbformat": 4,
 "nbformat_minor": 5
}
